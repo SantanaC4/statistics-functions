{
  "nbformat": 4,
  "nbformat_minor": 0,
  "metadata": {
    "colab": {
      "name": "statistics.ipynb",
      "provenance": [],
      "include_colab_link": true
    },
    "kernelspec": {
      "name": "python3",
      "display_name": "Python 3"
    }
  },
  "cells": [
    {
      "cell_type": "markdown",
      "metadata": {
        "id": "view-in-github",
        "colab_type": "text"
      },
      "source": [
        "<a href=\"https://colab.research.google.com/github/SantanaC4/statistics-functions/blob/main/statistics.ipynb\" target=\"_parent\"><img src=\"https://colab.research.google.com/assets/colab-badge.svg\" alt=\"Open In Colab\"/></a>"
      ]
    },
    {
      "cell_type": "code",
      "execution_count": null,
      "metadata": {
        "id": "0WIYO4VEfHgd"
      },
      "outputs": [],
      "source": [
        "from collections import defaultdict\n",
        "import numpy as np\n",
        "import math"
      ]
    },
    {
      "cell_type": "markdown",
      "source": [
        "# Some statistics functions definition"
      ],
      "metadata": {
        "id": "tNEq6YRp85bc"
      }
    },
    {
      "cell_type": "code",
      "source": [
        "## Compute relative frequency\n",
        "def relative_frequency(numbers):\n",
        "  nb = defaultdict(int)\n",
        "  for i,j in numbers.items():\n",
        "    nb[i] = 100*j/50\n",
        "  return (nb)"
      ],
      "metadata": {
        "id": "iLKBUzaKfWqR"
      },
      "execution_count": null,
      "outputs": []
    },
    {
      "cell_type": "code",
      "source": [
        "def rm_comma(ano):\n",
        "  ano_= []\n",
        "  aux = \"\"\n",
        "  for i in ano.split():\n",
        "    for j in i:\n",
        "      if (j == \",\"):\n",
        "        aux += \".\"\n",
        "      else:\n",
        "        aux += j\n",
        "    ano_.append(float(aux))\n",
        "    aux = \"\"\n",
        "  return (ano_)"
      ],
      "metadata": {
        "id": "ili3DeElnWGT"
      },
      "execution_count": null,
      "outputs": []
    },
    {
      "cell_type": "code",
      "source": [
        "## Media simples\n",
        "def mean(data):\n",
        "  ret = 0\n",
        "  for i in data:\n",
        "    ret += i\n",
        "  return (ret/len(data))"
      ],
      "metadata": {
        "id": "hEAjJpitqjPt"
      },
      "execution_count": null,
      "outputs": []
    },
    {
      "cell_type": "code",
      "source": [
        "## Desvio padrão, coeficiente de variação variância\n",
        "def variancia(numbers):\n",
        "  m = mean(numbers)\n",
        "  desvio = 0\n",
        "  for i in numbers:\n",
        "    desvio += (i - m)**2\n",
        "  return (desvio/len(numbers))\n",
        "\n",
        "def desvio_padrao(numbers):\n",
        "  ret = variancia(numbers)\n",
        "  return (np.sqrt(ret))\n",
        "def coef_variacao(numbers):\n",
        "  return (desvio_padrao(numbers)/mean(numbers))"
      ],
      "metadata": {
        "id": "LjotsMPbZnt8"
      },
      "execution_count": null,
      "outputs": []
    },
    {
      "cell_type": "code",
      "source": [
        "# Distribuição de probabilidade binomial\n",
        "def binomial(x, p, n):\n",
        "  combination = math.factorial(n)/(math.factorial(x)*math.factorial(n - x))\n",
        "  p_x = p**x\n",
        "  p_not_x = (1 - p)**(n - x)\n",
        "  return (combination*p_x*p_not_x)\n",
        "# Distribuição de probabilidade poisson\n",
        "def poisson(x, m):\n",
        "  n = math.pow(m, x)*math.exp(-m)\n",
        "  f = (1/(math.factorial(x)))\n",
        "  return (n*f)"
      ],
      "metadata": {
        "id": "0znTazyB6rRr"
      },
      "execution_count": 45,
      "outputs": []
    },
    {
      "cell_type": "markdown",
      "source": [
        "# Test main"
      ],
      "metadata": {
        "id": "CrM5zeqx9QTV"
      }
    },
    {
      "cell_type": "code",
      "source": [
        "# Test main\n",
        "## A taxa de desemprego em certa cidade é de 10%. Em uma amostra aleatória de 12 pessoas, qual a\n",
        "## probabilidade 4 estarem desempregadas? \n",
        "print(binomial(4,0.1, 12))\n",
        "\n",
        "## Nos dias atuais o time A, tem 3/5 de probabilidade de vitória, sempre que joga fora de casa. Se o time A\n",
        "## jogar 8 partidas fora de casa, qual a probabilidade dele vencer todas? \n",
        "print(round(binomial(8,3/5,8)*100,1))\n",
        "\n",
        "##  Uma pessoa recebe, em média 5 chamadas telefônicas por dia, qual a probabilidade de que, em certo dia\n",
        "##  ela receba 9 chamadas telefônicas? \n",
        "print(round(poisson(9, 5)*100,1))\n",
        "\n",
        "##  Uma máquina que funciona em tempo contínuo tem, em média, 2 falhas em cada turno de oito horas de\n",
        "##  funcionamento. Qual a probabilidade de que essa máquina tenha 4 falhas no próximo turno de oito horas?\n",
        "print(round(poisson(4, 2)*100,1))"
      ],
      "metadata": {
        "colab": {
          "base_uri": "https://localhost:8080/"
        },
        "id": "Jsv4CDbS8AmR",
        "outputId": "377fffa7-72fc-4df0-b861-46548345f6bc"
      },
      "execution_count": 57,
      "outputs": [
        {
          "output_type": "stream",
          "name": "stdout",
          "text": [
            "0.02130812689500001\n",
            "1.7\n",
            "3.6\n",
            "9.0\n"
          ]
        }
      ]
    },
    {
      "cell_type": "code",
      "source": [
        "numbers = \"5 4 6 1 2 5 3 1 3 3 4 4 1 5 5 6 1 2 5 1 3 4 5 1 1 6 6 2 1 1 4 4 4 3 4 3 2 2 2 3 6 6 3 2 4 2 6 6 2 1\"\n",
        "nb = defaultdict(int)\n",
        "print(len(numbers.split()))\n",
        "for i in numbers.split():\n",
        "  nb[i] += 1\n",
        "print(nb)\n",
        "print(relative_frequency(nb))"
      ],
      "metadata": {
        "colab": {
          "base_uri": "https://localhost:8080/"
        },
        "id": "v4vFHpDd9kbU",
        "outputId": "7f3a474a-0aa5-48ef-da46-c2a6d2973ae7"
      },
      "execution_count": null,
      "outputs": [
        {
          "output_type": "stream",
          "name": "stdout",
          "text": [
            "50\n",
            "defaultdict(<class 'int'>, {'5': 6, '4': 9, '6': 8, '1': 10, '2': 9, '3': 8})\n",
            "defaultdict(<class 'int'>, {'5': 12.0, '4': 18.0, '6': 16.0, '1': 20.0, '2': 18.0, '3': 16.0})\n"
          ]
        }
      ]
    },
    {
      "cell_type": "code",
      "source": [
        "ano_2020 = \"27,0 18,5 13,0 16,0 17,0 15,0 18,0 19,0 16,5 15,5 16,5 20,0 17,0 17,0 18,5\"\n",
        "ano_2021 = \"13,3 12,7 13,7 10,7 11,3 13,0 12,0 13,3 14,7 17,3 17,0 18,0 20,0 21,0 16,7\"\n",
        "\n",
        "nb = defaultdict(int)\n",
        "for i in ano_2021.split():\n",
        "  nb[i] += 1\n",
        "print(nb)"
      ],
      "metadata": {
        "colab": {
          "base_uri": "https://localhost:8080/"
        },
        "id": "qB0TK0rd9uN_",
        "outputId": "16967114-262a-4efb-e074-12fe447d0de9"
      },
      "execution_count": null,
      "outputs": [
        {
          "output_type": "stream",
          "name": "stdout",
          "text": [
            "defaultdict(<class 'int'>, {'13,3': 2, '12,7': 1, '13,7': 1, '10,7': 1, '11,3': 1, '13,0': 1, '12,0': 1, '14,7': 1, '17,3': 1, '17,0': 1, '18,0': 1, '20,0': 1, '21,0': 1, '16,7': 1})\n"
          ]
        }
      ]
    },
    {
      "cell_type": "code",
      "source": [
        "print(rm_comma(ano_2020))\n",
        "print(rm_comma(ano_2021))\n",
        "a = mean(rm_comma(ano_2020))\n",
        "b = mean(rm_comma(ano_2021))\n",
        "print(a)\n",
        "print(b)"
      ],
      "metadata": {
        "colab": {
          "base_uri": "https://localhost:8080/"
        },
        "id": "BTvEDM4i95Ls",
        "outputId": "23586526-3960-49de-91c7-05bb6eb8229e"
      },
      "execution_count": null,
      "outputs": [
        {
          "output_type": "stream",
          "name": "stdout",
          "text": [
            "[27.0, 18.5, 13.0, 16.0, 17.0, 15.0, 18.0, 19.0, 16.5, 15.5, 16.5, 20.0, 17.0, 17.0, 18.5]\n",
            "[13.3, 12.7, 13.7, 10.7, 11.3, 13.0, 12.0, 13.3, 14.7, 17.3, 17.0, 18.0, 20.0, 21.0, 16.7]\n",
            "17.633333333333333\n",
            "14.979999999999999\n"
          ]
        }
      ]
    },
    {
      "cell_type": "code",
      "source": [
        "print(desvio_padrao(rm_comma(ano_2020)))\n",
        "print(desvio_padrao(rm_comma(ano_2021)))\n",
        "print(coef_variacao(rm_comma(ano_2020)))\n",
        "print(coef_variacao(rm_comma(ano_2020)))"
      ],
      "metadata": {
        "colab": {
          "base_uri": "https://localhost:8080/"
        },
        "id": "SRe_isId-gTH",
        "outputId": "18d1e297-80c8-405a-8540-0800cd849761"
      },
      "execution_count": null,
      "outputs": [
        {
          "output_type": "stream",
          "name": "stdout",
          "text": [
            "3.0136725472788544\n",
            "3.0572754755391824\n",
            "0.17090770589483106\n",
            "0.17090770589483106\n"
          ]
        }
      ]
    }
  ]
}